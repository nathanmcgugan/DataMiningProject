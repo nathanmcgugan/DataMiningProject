{
 "cells": [
  {
   "cell_type": "code",
   "id": "1efc77a1",
   "metadata": {
    "ExecuteTime": {
     "end_time": "2025-04-08T23:59:29.887155Z",
     "start_time": "2025-04-08T23:59:13.971238Z"
    }
   },
   "source": [
    "\n",
    "import pandas as pd\n",
    "import numpy as np\n",
    "from sklearn.model_selection import train_test_split\n",
    "from sklearn.metrics import classification_report, roc_auc_score\n",
    "from xgboost import XGBClassifier\n",
    "\n",
    "df = pd.read_feather('mined_data.feather')\n",
    "\n",
    "# Drop columns not needed\n",
    "df.drop(['order_id', 'order_number', 'order_dow', 'order_hour_of_day',\n",
    "         'reordered', 'product_name', 'days_since_user_first_order'], axis=1, inplace=True)\n",
    "\n",
    "df = df[df['days_since_user_ordered_product'] >= 0]\n",
    "\n",
    "df['reordered_within_30_days'] = (df['days_since_user_ordered_product'] <= 30).astype(int)\n",
    "\n",
    "df.drop(['days_since_user_ordered_product'], axis=1, inplace=True)\n",
    "\n",
    "X = df.drop('reordered_within_30_days', axis=1)\n",
    "y = df['reordered_within_30_days']\n",
    "\n",
    "# Creating a smaller validation set to try different models\n",
    "validation_df = df.sample(frac=0.1, random_state=96)\n",
    "val_X = validation_df.drop('reordered_within_30_days', axis=1)\n",
    "val_y = validation_df['reordered_within_30_days']\n",
    "\n",
    "X_train, X_test, y_train, y_test = train_test_split(val_X, val_y, test_size=0.2, random_state=21)"
   ],
   "outputs": [],
   "execution_count": 1
  },
  {
   "cell_type": "code",
   "id": "35a70613",
   "metadata": {
    "ExecuteTime": {
     "end_time": "2025-04-09T00:12:25.988886Z",
     "start_time": "2025-04-08T23:59:29.888209Z"
    }
   },
   "source": [
    "from sklearn.neighbors import KNeighborsClassifier\n",
    "\n",
    "knn = KNeighborsClassifier()\n",
    "knn.fit(X_train, y_train)\n",
    "y_pred = knn.predict(X_test)\n",
    "print(classification_report(y_test, y_pred))\n"
   ],
   "outputs": [
    {
     "name": "stdout",
     "output_type": "stream",
     "text": [
      "              precision    recall  f1-score   support\n",
      "\n",
      "           0       0.32      0.15      0.21    101411\n",
      "           1       0.74      0.88      0.81    281120\n",
      "\n",
      "    accuracy                           0.69    382531\n",
      "   macro avg       0.53      0.52      0.51    382531\n",
      "weighted avg       0.63      0.69      0.65    382531\n",
      "\n"
     ]
    }
   ],
   "execution_count": 2
  },
  {
   "cell_type": "code",
   "id": "25981012",
   "metadata": {
    "ExecuteTime": {
     "end_time": "2025-04-09T00:18:01.764100Z",
     "start_time": "2025-04-09T00:12:25.989890Z"
    }
   },
   "source": [
    "from sklearn.ensemble import RandomForestClassifier\n",
    "\n",
    "rf = RandomForestClassifier()\n",
    "rf.fit(X_train, y_train)\n",
    "y_pred = rf.predict(X_test)\n",
    "print(classification_report(y_test, y_pred))"
   ],
   "outputs": [
    {
     "name": "stdout",
     "output_type": "stream",
     "text": [
      "              precision    recall  f1-score   support\n",
      "\n",
      "           0       0.37      0.28      0.32    101411\n",
      "           1       0.76      0.83      0.79    281120\n",
      "\n",
      "    accuracy                           0.68    382531\n",
      "   macro avg       0.56      0.55      0.56    382531\n",
      "weighted avg       0.66      0.68      0.67    382531\n",
      "\n"
     ]
    }
   ],
   "execution_count": 3
  },
  {
   "cell_type": "code",
   "id": "919d9287",
   "metadata": {
    "ExecuteTime": {
     "end_time": "2025-04-09T00:18:21.336144Z",
     "start_time": "2025-04-09T00:18:01.764100Z"
    }
   },
   "source": [
    "from sklearn.linear_model import LogisticRegression\n",
    "\n",
    "lg = LogisticRegression()\n",
    "lg.fit(X_train, y_train)\n",
    "y_pred = lg.predict(X_test)\n",
    "print(classification_report(y_test, y_pred))"
   ],
   "outputs": [
    {
     "name": "stderr",
     "output_type": "stream",
     "text": [
      "C:\\Users\\natha\\PycharmProjects\\Datamining_project\\.venv\\Lib\\site-packages\\sklearn\\linear_model\\_logistic.py:465: ConvergenceWarning: lbfgs failed to converge (status=1):\n",
      "STOP: TOTAL NO. OF ITERATIONS REACHED LIMIT.\n",
      "\n",
      "Increase the number of iterations (max_iter) or scale the data as shown in:\n",
      "    https://scikit-learn.org/stable/modules/preprocessing.html\n",
      "Please also refer to the documentation for alternative solver options:\n",
      "    https://scikit-learn.org/stable/modules/linear_model.html#logistic-regression\n",
      "  n_iter_i = _check_optimize_result(\n"
     ]
    },
    {
     "name": "stdout",
     "output_type": "stream",
     "text": [
      "              precision    recall  f1-score   support\n",
      "\n",
      "           0       0.52      0.09      0.15    101411\n",
      "           1       0.75      0.97      0.84    281120\n",
      "\n",
      "    accuracy                           0.74    382531\n",
      "   macro avg       0.63      0.53      0.50    382531\n",
      "weighted avg       0.69      0.74      0.66    382531\n",
      "\n"
     ]
    }
   ],
   "execution_count": 4
  },
  {
   "cell_type": "code",
   "id": "05d3588f",
   "metadata": {
    "ExecuteTime": {
     "end_time": "2025-04-09T00:18:24.689493Z",
     "start_time": "2025-04-09T00:18:21.336652Z"
    }
   },
   "source": [
    "from sklearn.naive_bayes import GaussianNB\n",
    "gnb = GaussianNB()\n",
    "gnb.fit(X_train, y_train)\n",
    "y_pred = gnb.predict(X_test)\n",
    "print(classification_report(y_test, y_pred))"
   ],
   "outputs": [
    {
     "name": "stdout",
     "output_type": "stream",
     "text": [
      "              precision    recall  f1-score   support\n",
      "\n",
      "           0       0.46      0.17      0.25    101411\n",
      "           1       0.76      0.93      0.83    281120\n",
      "\n",
      "    accuracy                           0.73    382531\n",
      "   macro avg       0.61      0.55      0.54    382531\n",
      "weighted avg       0.68      0.73      0.68    382531\n",
      "\n"
     ]
    }
   ],
   "execution_count": 5
  },
  {
   "metadata": {
    "ExecuteTime": {
     "end_time": "2025-04-09T00:18:27.275881Z",
     "start_time": "2025-04-09T00:18:24.689493Z"
    }
   },
   "cell_type": "code",
   "source": [
    "from xgboost import XGBClassifier\n",
    "\n",
    "xgb = XGBClassifier(device='cuda')\n",
    "xgb.fit(X_train, y_train)\n",
    "y_pred = xgb.predict(X_test)\n",
    "print(classification_report(y_test, y_pred))"
   ],
   "id": "c992a5dc4be30333",
   "outputs": [
    {
     "name": "stderr",
     "output_type": "stream",
     "text": [
      "C:\\Users\\natha\\PycharmProjects\\Datamining_project\\.venv\\Lib\\site-packages\\xgboost\\core.py:729: UserWarning: [21:18:26] WARNING: C:\\actions-runner\\_work\\xgboost\\xgboost\\src\\common\\error_msg.cc:58: Falling back to prediction using DMatrix due to mismatched devices. This might lead to higher memory usage and slower performance. XGBoost is running on: cuda:0, while the input data is on: cpu.\n",
      "Potential solutions:\n",
      "- Use a data structure that matches the device ordinal in the booster.\n",
      "- Set the device for booster before call to inplace_predict.\n",
      "\n",
      "This warning will only be shown once.\n",
      "\n",
      "  return func(**kwargs)\n"
     ]
    },
    {
     "name": "stdout",
     "output_type": "stream",
     "text": [
      "              precision    recall  f1-score   support\n",
      "\n",
      "           0       0.56      0.12      0.20    101411\n",
      "           1       0.75      0.97      0.85    281120\n",
      "\n",
      "    accuracy                           0.74    382531\n",
      "   macro avg       0.66      0.54      0.53    382531\n",
      "weighted avg       0.70      0.74      0.68    382531\n",
      "\n"
     ]
    }
   ],
   "execution_count": 6
  },
  {
   "cell_type": "markdown",
   "id": "6ece2e5c",
   "metadata": {},
   "source": "XGBoost and Logistic Regression have the best accuracy. Since XGBoost was faster, I'm going to use that."
  },
  {
   "metadata": {},
   "cell_type": "code",
   "outputs": [],
   "execution_count": null,
   "source": "",
   "id": "f242cc306a7d9023"
  }
 ],
 "metadata": {
  "kernelspec": {
   "name": "python3",
   "language": "python",
   "display_name": "Python 3 (ipykernel)"
  }
 },
 "nbformat": 4,
 "nbformat_minor": 5
}
